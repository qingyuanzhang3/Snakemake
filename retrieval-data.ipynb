{
 "cells": [
  {
   "cell_type": "code",
   "execution_count": 1,
   "id": "72a78bee",
   "metadata": {},
   "outputs": [],
   "source": [
    "import numpy as np\n",
    "from ticktack import fitting\n",
    "import ticktack\n",
    "import matplotlib.pyplot as plt\n",
    "import jax.numpy as jnp\n",
    "from tqdm import tqdm\n",
    "import pandas as pd"
   ]
  },
  {
   "cell_type": "code",
   "execution_count": 2,
   "id": "b26017f4",
   "metadata": {},
   "outputs": [
    {
     "name": "stderr",
     "output_type": "stream",
     "text": [
      "INFO[2022-02-02 18:00:51,508]: Unable to initialize backend 'tpu_driver': Not found: Unable to find driver in registry given worker: \n",
      "INFO[2022-02-02 18:00:51,509]: Unable to initialize backend 'gpu': Not found: Could not find registered platform with name: \"cuda\". Available platform names are: Host Interpreter\n",
      "INFO[2022-02-02 18:00:51,510]: Unable to initialize backend 'tpu': Invalid argument: TpuPlatform is not available.\n",
      "WARNING[2022-02-02 18:00:51,511]: No GPU/TPU found, falling back to CPU. (Set TF_CPP_MIN_LOG_LEVEL=0 and rerun for more info.)\n"
     ]
    }
   ],
   "source": [
    "params = jnp.array([0, 775 + 8/12, 1/12, 4, 70/12, 0.1])"
   ]
  },
  {
   "cell_type": "code",
   "execution_count": 3,
   "id": "c8f0f662",
   "metadata": {
    "scrolled": true
   },
   "outputs": [],
   "source": [
    "cbm = ticktack.load_presaved_model(\"Brehm21\", production_rate_units='atoms/cm^2/s')\n",
    "sh = fitting.SingleFitter(cbm, cbm_model=\"Brehm21\", hemisphere=\"north\")\n",
    "sh.load_data(\"data/SH.csv\")\n",
    "sh.compile_production_model(\"flexible_sinusoid_affine_variant\")"
   ]
  },
  {
   "cell_type": "code",
   "execution_count": 5,
   "id": "12ded302",
   "metadata": {},
   "outputs": [],
   "source": [
    "sh.offset = 0\n",
    "d14c = sh.dc14(params) + np.random.randn(11) * np.sqrt(1.8)\n",
    "df = pd.DataFrame(np.array(d14c))\n",
    "df.to_csv(\"data/lol.csv\")"
   ]
  },
  {
   "cell_type": "code",
   "execution_count": 6,
   "id": "3adb5884",
   "metadata": {},
   "outputs": [],
   "source": [
    "cbm = ticktack.load_presaved_model(\"Brehm21\", production_rate_units='atoms/cm^2/s')\n",
    "nh = fitting.SingleFitter(cbm, cbm_model=\"Brehm21\", hemisphere=\"north\")\n",
    "nh.load_data(\"data/NH.csv\")\n",
    "nh.compile_production_model(\"flexible_sinusoid_affine_variant\")"
   ]
  },
  {
   "cell_type": "code",
   "execution_count": 7,
   "id": "f38eb679",
   "metadata": {},
   "outputs": [],
   "source": [
    "nh.offset = 0\n",
    "d14c = nh.dc14(params) + np.random.randn(11) * np.sqrt(1.8)\n",
    "df = pd.DataFrame(np.array(d14c))\n",
    "df.to_csv(\"data/lol-nh.csv\")"
   ]
  },
  {
   "cell_type": "code",
   "execution_count": null,
   "id": "1912a216",
   "metadata": {},
   "outputs": [],
   "source": []
  }
 ],
 "metadata": {
  "kernelspec": {
   "display_name": "Python 3 (ipykernel)",
   "language": "python",
   "name": "python3"
  },
  "language_info": {
   "codemirror_mode": {
    "name": "ipython",
    "version": 3
   },
   "file_extension": ".py",
   "mimetype": "text/x-python",
   "name": "python",
   "nbconvert_exporter": "python",
   "pygments_lexer": "ipython3",
   "version": "3.8.10"
  }
 },
 "nbformat": 4,
 "nbformat_minor": 5
}
