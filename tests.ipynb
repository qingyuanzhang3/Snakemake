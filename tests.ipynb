{
 "cells": [
  {
   "cell_type": "code",
   "execution_count": 1,
   "id": "8d052e55",
   "metadata": {},
   "outputs": [],
   "source": [
    "import numpy as np\n",
    "import jax.numpy as jnp\n",
    "import pytest\n",
    "import ticktack\n",
    "from ticktack import fitting"
   ]
  },
  {
   "cell_type": "code",
   "execution_count": 2,
   "id": "a86f9cd1",
   "metadata": {},
   "outputs": [
    {
     "name": "stderr",
     "output_type": "stream",
     "text": [
      "INFO[2022-02-01 20:31:51,505]: Unable to initialize backend 'tpu_driver': Not found: Unable to find driver in registry given worker: \n",
      "INFO[2022-02-01 20:31:51,506]: Unable to initialize backend 'gpu': Not found: Could not find registered platform with name: \"cuda\". Available platform names are: Host Interpreter\n",
      "INFO[2022-02-01 20:31:51,507]: Unable to initialize backend 'tpu': Invalid argument: TpuPlatform is not available.\n",
      "WARNING[2022-02-01 20:31:51,508]: No GPU/TPU found, falling back to CPU. (Set TF_CPP_MIN_LOG_LEVEL=0 and rerun for more info.)\n"
     ]
    }
   ],
   "source": [
    "cbm = ticktack.load_presaved_model('Guttler14', production_rate_units='atoms/cm^2/s')\n",
    "sf = fitting.SingleFitter(cbm, 'Guttler14', hemisphere=\"north\")"
   ]
  },
  {
   "cell_type": "code",
   "execution_count": 3,
   "id": "36ec4002",
   "metadata": {},
   "outputs": [],
   "source": [
    "sf.load_data(\"data/775AD-late-N/Guttler15_Kauri.csv\")"
   ]
  },
  {
   "cell_type": "code",
   "execution_count": 5,
   "id": "9e8ead0c",
   "metadata": {},
   "outputs": [
    {
     "data": {
      "text/plain": [
       "(20,)"
      ]
     },
     "execution_count": 5,
     "metadata": {},
     "output_type": "execute_result"
    }
   ],
   "source": [
    "sf.time_data.shape"
   ]
  },
  {
   "cell_type": "code",
   "execution_count": 2,
   "id": "4018e450",
   "metadata": {},
   "outputs": [
    {
     "name": "stderr",
     "output_type": "stream",
     "text": [
      "INFO[2022-02-01 11:19:01,301]: Unable to initialize backend 'tpu_driver': Not found: Unable to find driver in registry given worker: \n",
      "INFO[2022-02-01 11:19:01,303]: Unable to initialize backend 'gpu': Not found: Could not find registered platform with name: \"cuda\". Available platform names are: Host Interpreter\n",
      "INFO[2022-02-01 11:19:01,304]: Unable to initialize backend 'tpu': Invalid argument: TpuPlatform is not available.\n",
      "WARNING[2022-02-01 11:19:01,305]: No GPU/TPU found, falling back to CPU. (Set TF_CPP_MIN_LOG_LEVEL=0 and rerun for more info.)\n"
     ]
    }
   ],
   "source": [
    "cbm = ticktack.load_presaved_model('Guttler14', production_rate_units='atoms/cm^2/s')\n",
    "sf = fitting.SingleFitter(cbm, 'Guttler14', hemisphere=\"north\")\n",
    "sf.time_data = jnp.arange(200, 210)\n",
    "sf.d14c_data_error = jnp.ones((sf.time_data.size,))\n",
    "sf.d14c_data = jnp.array([-169.81482498, -168.05109886, -163.81278239, -158.13313339,\n",
    "                          -153.23525037, -150.89762995, -151.11804461, -152.1036496 ,\n",
    "                          -151.60492619, -151.60492619])\n",
    "sf.start = np.nanmin(sf.time_data)\n",
    "sf.end = np.nanmax(sf.time_data)\n",
    "sf.burn_in_time = jnp.arange(sf.start - 1000 - 1, sf.start - 1)\n",
    "sf.oversample = 1008\n",
    "sf.time_data_fine = jnp.linspace(sf.start - 1, sf.end + 1, int(sf.oversample * (sf.end - sf.start + 2)))\n",
    "sf.burnin_oversample = 1\n",
    "sf.offset = 0\n",
    "sf.annual = jnp.arange(sf.start, sf.end + 1)\n",
    "sf.mask = jnp.in1d(sf.annual, sf.time_data)\n",
    "sf.growth = jnp.array([0, 0, 0, 1, 1, 1, 1, 1, 1, 0, 0, 0])"
   ]
  },
  {
   "cell_type": "code",
   "execution_count": 3,
   "id": "152c2d05",
   "metadata": {},
   "outputs": [],
   "source": [
    "mf = fitting.MultiFitter()\n",
    "sf.compile_production_model(model=\"simple_sinusoid\")\n",
    "mf.add_SingleFitter(sf)\n",
    "mf.add_SingleFitter(sf)\n",
    "mf.compile()"
   ]
  },
  {
   "cell_type": "code",
   "execution_count": 4,
   "id": "c9abdcbb",
   "metadata": {},
   "outputs": [
    {
     "data": {
      "text/plain": [
       "DeviceArray(-271748.72808792, dtype=float64)"
      ]
     },
     "execution_count": 4,
     "metadata": {},
     "output_type": "execute_result"
    }
   ],
   "source": [
    "out = mf.multi_likelihood(params=jnp.array([205., 1. / 12, jnp.pi / 2., 81. / 12]))\n",
    "out"
   ]
  },
  {
   "cell_type": "code",
   "execution_count": 5,
   "id": "191add87",
   "metadata": {},
   "outputs": [
    {
     "data": {
      "text/plain": [
       "DeviceArray(2.1823329, dtype=float64)"
      ]
     },
     "execution_count": 5,
     "metadata": {},
     "output_type": "execute_result"
    }
   ],
   "source": [
    "out = sf.simple_sinusoid(200, jnp.array([205., 1./12, jnp.pi/2., 81./12]))\n",
    "out"
   ]
  },
  {
   "cell_type": "code",
   "execution_count": 6,
   "id": "8a8a9df8",
   "metadata": {},
   "outputs": [
    {
     "data": {
      "text/plain": [
       "DeviceArray(2.04813439, dtype=float64)"
      ]
     },
     "execution_count": 6,
     "metadata": {},
     "output_type": "execute_result"
    }
   ],
   "source": [
    "out = sf.flexible_sinusoid(200, jnp.array([205., 1./12, jnp.pi/2., 81./12, 0.1]))\n",
    "out"
   ]
  },
  {
   "cell_type": "code",
   "execution_count": 7,
   "id": "5e621db3",
   "metadata": {},
   "outputs": [
    {
     "data": {
      "text/plain": [
       "(DeviceArray([ 0.98204272,  1.52883272,  1.58545865,  1.13393995,\n",
       "               0.3176567 , 12.99251179, 15.10262893, 15.1004269 ,\n",
       "              14.58562105, 14.17481503], dtype=float64),\n",
       " DeviceArray([ 0.54557929,  0.84935151,  0.88081036,  0.62996664,\n",
       "               0.17647595, 13.26103646, 15.69767009, 15.83511032,\n",
       "              15.22872888, 14.52420871], dtype=float64),\n",
       " DeviceArray([-126.61096304, -126.64859288, -126.69988996, -126.75072931,\n",
       "              -126.80273836, -126.85424935, -126.90696527, -126.95362958,\n",
       "              -127.03376206, -127.62190907], dtype=float64))"
      ]
     },
     "execution_count": 7,
     "metadata": {},
     "output_type": "execute_result"
    }
   ],
   "source": [
    "sf.compile_production_model(model=\"simple_sinusoid\")\n",
    "a = sf.dc14(params=jnp.array([205., 1. / 12, jnp.pi / 2., 81./12]))\n",
    "sf.compile_production_model(model=\"flexible_sinusoid\")\n",
    "b = sf.dc14(params=(jnp.array([205., 1./12, jnp.pi/2., 81./12, 0.1])))\n",
    "sf.compile_production_model(model=\"control_points\")\n",
    "c = sf.dc14(params=jnp.ones(sf.control_points_time.size))\n",
    "a, b, c"
   ]
  },
  {
   "cell_type": "markdown",
   "id": "2e3d17fb",
   "metadata": {},
   "source": [
    "dc14 fine"
   ]
  },
  {
   "cell_type": "code",
   "execution_count": 8,
   "id": "f1fc2869",
   "metadata": {},
   "outputs": [
    {
     "data": {
      "text/plain": [
       "(DeviceArray([13.88683504, 13.88667417, 13.88651321, 13.88635218,\n",
       "              13.88619107, 13.88602988, 13.88586861, 13.88570727,\n",
       "              13.88554584], dtype=float64),\n",
       " DeviceArray([13.63361525, 13.63306659, 13.63251794, 13.6319693 ,\n",
       "              13.63142066, 13.63087202, 13.63032339, 13.62977477,\n",
       "              13.62922615], dtype=float64),\n",
       " DeviceArray([-129.75148614, -129.75330728, -129.75512883, -129.7569508 ,\n",
       "              -129.75877317, -129.76059596, -129.76241915, -129.76424276,\n",
       "              -129.76606678], dtype=float64))"
      ]
     },
     "execution_count": 8,
     "metadata": {},
     "output_type": "execute_result"
    }
   ],
   "source": [
    "sf.compile_production_model(model=\"simple_sinusoid\")\n",
    "a = sf.dc14_fine(params=jnp.array([205., 1. / 12, jnp.pi / 2., 81./12]))[-9:]\n",
    "sf.compile_production_model(model=\"flexible_sinusoid\")\n",
    "b = sf.dc14_fine(params=jnp.array([205., 1./12, jnp.pi/2., 81./12, 0.1]))[-9:]\n",
    "sf.compile_production_model(model=\"control_points\")\n",
    "c = sf.dc14_fine(params=jnp.ones(sf.control_points_time.size))[-9:]\n",
    "a, b, c"
   ]
  },
  {
   "cell_type": "code",
   "execution_count": 9,
   "id": "deb46388",
   "metadata": {},
   "outputs": [
    {
     "data": {
      "text/plain": [
       "DeviceArray(-135889.35596721, dtype=float64)"
      ]
     },
     "execution_count": 9,
     "metadata": {},
     "output_type": "execute_result"
    }
   ],
   "source": [
    "sf.compile_production_model(model=\"simple_sinusoid\")\n",
    "out = sf.log_likelihood(jnp.array([205., 1. / 12, jnp.pi / 2., 81./12]))\n",
    "out"
   ]
  },
  {
   "cell_type": "code",
   "execution_count": 10,
   "id": "ebfdd266",
   "metadata": {},
   "outputs": [
    {
     "data": {
      "text/plain": [
       "DeviceArray(-10.21255349, dtype=float64)"
      ]
     },
     "execution_count": 10,
     "metadata": {},
     "output_type": "execute_result"
    }
   ],
   "source": [
    "sf.compile_production_model(model=\"control_points\")\n",
    "out = sf.log_likelihood_gp(jnp.ones(sf.control_points_time.size))\n",
    "out"
   ]
  },
  {
   "cell_type": "code",
   "execution_count": 12,
   "id": "cc1ef71e",
   "metadata": {},
   "outputs": [
    {
     "data": {
      "text/plain": [
       "DeviceArray(-4818.88864661, dtype=float64)"
      ]
     },
     "execution_count": 12,
     "metadata": {},
     "output_type": "execute_result"
    }
   ],
   "source": [
    "sf.compile_production_model(model=\"control_points\")\n",
    "out = sf.log_joint_likelihood_gp(jnp.ones(sf.control_points_time.size), jnp.zeros((sf.control_points_time.size)),\n",
    "                                                        jnp.ones(sf.control_points_time.size) * 100)\n",
    "out"
   ]
  },
  {
   "cell_type": "code",
   "execution_count": 13,
   "id": "46b989ff",
   "metadata": {},
   "outputs": [
    {
     "data": {
      "text/plain": [
       "DeviceArray([40807.33529931,   601.15067189,   453.70227677,\n",
       "               399.07149295,   334.40422425,   279.84279019,\n",
       "               232.99899038,   147.72477284,   161.56303745],            dtype=float64)"
      ]
     },
     "execution_count": 13,
     "metadata": {},
     "output_type": "execute_result"
    }
   ],
   "source": [
    "out = sf.grad_neg_log_joint_likelihood_gp(jnp.ones(sf.control_points_time.size))\n",
    "out"
   ]
  },
  {
   "cell_type": "code",
   "execution_count": null,
   "id": "87be9764",
   "metadata": {},
   "outputs": [],
   "source": []
  }
 ],
 "metadata": {
  "kernelspec": {
   "display_name": "Python 3 (ipykernel)",
   "language": "python",
   "name": "python3"
  },
  "language_info": {
   "codemirror_mode": {
    "name": "ipython",
    "version": 3
   },
   "file_extension": ".py",
   "mimetype": "text/x-python",
   "name": "python",
   "nbconvert_exporter": "python",
   "pygments_lexer": "ipython3",
   "version": "3.8.10"
  }
 },
 "nbformat": 4,
 "nbformat_minor": 5
}
