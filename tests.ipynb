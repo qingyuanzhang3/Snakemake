{
 "cells": [
  {
   "cell_type": "code",
   "execution_count": 1,
   "id": "8d052e55",
   "metadata": {},
   "outputs": [],
   "source": [
    "import numpy as np\n",
    "import jax.numpy as jnp\n",
    "import pytest\n",
    "import ticktack\n",
    "from ticktack import fitting"
   ]
  },
  {
   "cell_type": "code",
   "execution_count": 2,
   "id": "4018e450",
   "metadata": {},
   "outputs": [
    {
     "name": "stderr",
     "output_type": "stream",
     "text": [
      "INFO[2022-02-14 16:47:05,287]: Unable to initialize backend 'tpu_driver': Not found: Unable to find driver in registry given worker: \n",
      "INFO[2022-02-14 16:47:05,288]: Unable to initialize backend 'gpu': Not found: Could not find registered platform with name: \"cuda\". Available platform names are: Interpreter Host\n",
      "INFO[2022-02-14 16:47:05,289]: Unable to initialize backend 'tpu': Invalid argument: TpuPlatform is not available.\n",
      "WARNING[2022-02-14 16:47:05,289]: No GPU/TPU found, falling back to CPU. (Set TF_CPP_MIN_LOG_LEVEL=0 and rerun for more info.)\n"
     ]
    }
   ],
   "source": [
    "cbm = ticktack.load_presaved_model('Guttler15', production_rate_units='atoms/cm^2/s')\n",
    "sf = fitting.SingleFitter(cbm, 'Guttler15', hemisphere=\"north\")\n",
    "sf.time_data = jnp.arange(200, 210)\n",
    "sf.d14c_data_error = jnp.ones((sf.time_data.size,))\n",
    "sf.d14c_data = jnp.array([-169.81482498, -168.05109886, -163.81278239, -158.13313339,\n",
    "                          -153.23525037, -150.89762995, -151.11804461, -152.1036496 ,\n",
    "                          -151.60492619, -151.60492619])\n",
    "sf.start = np.nanmin(sf.time_data)\n",
    "sf.end = np.nanmax(sf.time_data)\n",
    "sf.burn_in_time = jnp.arange(sf.start - 1000, sf.start, 1.)\n",
    "sf.oversample = 1008\n",
    "sf.time_data_fine = jnp.linspace(sf.start, sf.end + 2, int(sf.oversample * (sf.end - sf.start + 2)))\n",
    "sf.burnin_oversample = 1\n",
    "sf.offset = 0\n",
    "sf.annual = jnp.arange(sf.start, sf.end + 1)\n",
    "sf.mask = jnp.in1d(sf.annual, sf.time_data)\n",
    "sf.growth = jnp.array([0, 0, 0, 1, 1, 1, 1, 1, 1, 0, 0, 0])"
   ]
  },
  {
   "cell_type": "code",
   "execution_count": 3,
   "id": "152c2d05",
   "metadata": {},
   "outputs": [],
   "source": [
    "mf = fitting.MultiFitter()\n",
    "sf.compile_production_model(model=\"simple_sinusoid\")\n",
    "mf.add_SingleFitter(sf)\n",
    "mf.add_SingleFitter(sf)\n",
    "mf.compile()"
   ]
  },
  {
   "cell_type": "code",
   "execution_count": 4,
   "id": "c9abdcbb",
   "metadata": {},
   "outputs": [
    {
     "data": {
      "text/plain": [
       "DeviceArray(-271736.26950342, dtype=float64)"
      ]
     },
     "execution_count": 4,
     "metadata": {},
     "output_type": "execute_result"
    }
   ],
   "source": [
    "out = mf.multi_likelihood(params=jnp.array([205., 1. / 12, jnp.pi / 2., 81. / 12]))\n",
    "out"
   ]
  },
  {
   "cell_type": "code",
   "execution_count": 5,
   "id": "191add87",
   "metadata": {},
   "outputs": [
    {
     "data": {
      "text/plain": [
       "DeviceArray(2.1823329, dtype=float64)"
      ]
     },
     "execution_count": 5,
     "metadata": {},
     "output_type": "execute_result"
    }
   ],
   "source": [
    "out = sf.simple_sinusoid(200, jnp.array([205., 1./12, jnp.pi/2., 81./12]))\n",
    "out"
   ]
  },
  {
   "cell_type": "code",
   "execution_count": 6,
   "id": "8a8a9df8",
   "metadata": {},
   "outputs": [
    {
     "data": {
      "text/plain": [
       "DeviceArray(2.04813439, dtype=float64)"
      ]
     },
     "execution_count": 6,
     "metadata": {},
     "output_type": "execute_result"
    }
   ],
   "source": [
    "out = sf.flexible_sinusoid(200, jnp.array([205., 1./12, jnp.pi/2., 81./12, 0.1]))\n",
    "out"
   ]
  },
  {
   "cell_type": "code",
   "execution_count": 7,
   "id": "5e621db3",
   "metadata": {},
   "outputs": [
    {
     "data": {
      "text/plain": [
       "(DeviceArray([ 0.04804975,  0.63910482,  0.76016559,  0.37527574,\n",
       "              -0.3795604 , 12.34915479, 14.50537971, 14.54228208,\n",
       "              14.06061059, 13.67800247], dtype=float64),\n",
       " DeviceArray([ 0.02669429,  0.35505823,  0.42231421,  0.20848652,\n",
       "              -0.21086689, 12.90361593, 15.365865  , 15.52502989,\n",
       "              14.93705643, 14.24820176], dtype=float64),\n",
       " DeviceArray([-126.51396123, -126.55161057, -126.60292691, -126.65378533,\n",
       "              -126.70581364, -126.75734358, -126.81007871, -126.85676223,\n",
       "              -126.93691418, -127.52508047], dtype=float64))"
      ]
     },
     "execution_count": 7,
     "metadata": {},
     "output_type": "execute_result"
    }
   ],
   "source": [
    "sf.compile_production_model(model=\"simple_sinusoid\")\n",
    "a = sf.dc14(params=jnp.array([205., 1. / 12, jnp.pi / 2., 81./12]))\n",
    "sf.compile_production_model(model=\"flexible_sinusoid\")\n",
    "b = sf.dc14(params=(jnp.array([205., 1./12, jnp.pi/2., 81./12, 0.1])))\n",
    "sf.compile_production_model(model=\"control_points\")\n",
    "c = sf.dc14(params=jnp.ones(sf.control_points_time.size))\n",
    "a, b, c"
   ]
  },
  {
   "cell_type": "markdown",
   "id": "2e3d17fb",
   "metadata": {},
   "source": [
    "dc14 fine"
   ]
  },
  {
   "cell_type": "code",
   "execution_count": 8,
   "id": "f1fc2869",
   "metadata": {},
   "outputs": [
    {
     "data": {
      "text/plain": [
       "(DeviceArray([13.42488917, 13.42474906, 13.42460886, 13.42446859,\n",
       "              13.42432823, 13.42418779, 13.42404727, 13.42390667,\n",
       "              13.42376598], dtype=float64),\n",
       " DeviceArray([13.37697866, 13.37644154, 13.37590442, 13.37536731,\n",
       "              13.37483019, 13.37429309, 13.37375598, 13.37321888,\n",
       "              13.37268179], dtype=float64),\n",
       " DeviceArray([-129.65468629, -129.65650745, -129.65832902, -129.660151  ,\n",
       "              -129.6619734 , -129.6637962 , -129.66561942, -129.66744304,\n",
       "              -129.66926708], dtype=float64))"
      ]
     },
     "execution_count": 8,
     "metadata": {},
     "output_type": "execute_result"
    }
   ],
   "source": [
    "sf.compile_production_model(model=\"simple_sinusoid\")\n",
    "a = sf.dc14_fine(params=jnp.array([205., 1. / 12, jnp.pi / 2., 81./12]))[-9:]\n",
    "sf.compile_production_model(model=\"flexible_sinusoid\")\n",
    "b = sf.dc14_fine(params=jnp.array([205., 1./12, jnp.pi/2., 81./12, 0.1]))[-9:]\n",
    "sf.compile_production_model(model=\"control_points\")\n",
    "c = sf.dc14_fine(params=jnp.ones(sf.control_points_time.size))[-9:]\n",
    "a, b, c"
   ]
  },
  {
   "cell_type": "code",
   "execution_count": 9,
   "id": "deb46388",
   "metadata": {},
   "outputs": [
    {
     "data": {
      "text/plain": [
       "DeviceArray(-134749.41424852, dtype=float64)"
      ]
     },
     "execution_count": 9,
     "metadata": {},
     "output_type": "execute_result"
    }
   ],
   "source": [
    "sf.compile_production_model(model=\"simple_sinusoid\")\n",
    "out = sf.log_likelihood(jnp.array([205., 1. / 12, jnp.pi / 2., 81./12]))\n",
    "out"
   ]
  },
  {
   "cell_type": "code",
   "execution_count": 10,
   "id": "ebfdd266",
   "metadata": {},
   "outputs": [
    {
     "data": {
      "text/plain": [
       "DeviceArray(-10.21255349, dtype=float64)"
      ]
     },
     "execution_count": 10,
     "metadata": {},
     "output_type": "execute_result"
    }
   ],
   "source": [
    "sf.compile_production_model(model=\"control_points\")\n",
    "out = sf.log_likelihood_gp(jnp.ones(sf.control_points_time.size))\n",
    "out"
   ]
  },
  {
   "cell_type": "code",
   "execution_count": 11,
   "id": "cc1ef71e",
   "metadata": {},
   "outputs": [
    {
     "data": {
      "text/plain": [
       "DeviceArray(-4848.15844474, dtype=float64)"
      ]
     },
     "execution_count": 11,
     "metadata": {},
     "output_type": "execute_result"
    }
   ],
   "source": [
    "sf.compile_production_model(model=\"control_points\")\n",
    "out = sf.log_joint_likelihood_gp(jnp.ones(sf.control_points_time.size), jnp.zeros((sf.control_points_time.size)),\n",
    "                                                        jnp.ones(sf.control_points_time.size) * 100)\n",
    "out"
   ]
  },
  {
   "cell_type": "code",
   "execution_count": 12,
   "id": "46b989ff",
   "metadata": {},
   "outputs": [
    {
     "data": {
      "text/plain": [
       "DeviceArray([40903.92842731,   603.14554327,   455.32578778,\n",
       "               400.57669555,   335.71502475,   280.95206461,\n",
       "               233.92081014,   148.30657001,   162.21014777],            dtype=float64)"
      ]
     },
     "execution_count": 12,
     "metadata": {},
     "output_type": "execute_result"
    }
   ],
   "source": [
    "out = sf.grad_neg_log_joint_likelihood_gp(jnp.ones(sf.control_points_time.size))\n",
    "out"
   ]
  },
  {
   "cell_type": "code",
   "execution_count": null,
   "id": "87be9764",
   "metadata": {},
   "outputs": [],
   "source": []
  }
 ],
 "metadata": {
  "kernelspec": {
   "display_name": "Python 3 (ipykernel)",
   "language": "python",
   "name": "python3"
  },
  "language_info": {
   "codemirror_mode": {
    "name": "ipython",
    "version": 3
   },
   "file_extension": ".py",
   "mimetype": "text/x-python",
   "name": "python",
   "nbconvert_exporter": "python",
   "pygments_lexer": "ipython3",
   "version": "3.8.10"
  }
 },
 "nbformat": 4,
 "nbformat_minor": 5
}
